{
 "cells": [
  {
   "cell_type": "code",
   "execution_count": 3,
   "metadata": {},
   "outputs": [
    {
     "name": "stdout",
     "output_type": "stream",
     "text": [
      "Accuracy: 63.11%\n",
      "\n",
      "Classification Report:\n",
      "               precision    recall  f1-score   support\n",
      "\n",
      "         0.0       0.65      0.88      0.75       412\n",
      "         1.0       0.51      0.22      0.30       244\n",
      "\n",
      "    accuracy                           0.63       656\n",
      "   macro avg       0.58      0.55      0.53       656\n",
      "weighted avg       0.60      0.63      0.58       656\n",
      "\n"
     ]
    }
   ],
   "source": [
    "# Import các thư viện cần thiết\n",
    "import pandas as pd\n",
    "import numpy as np\n",
    "from sklearn.model_selection import train_test_split\n",
    "from sklearn.impute import SimpleImputer\n",
    "from sklearn.preprocessing import StandardScaler\n",
    "from sklearn.naive_bayes import GaussianNB\n",
    "from sklearn.metrics import classification_report, accuracy_score\n",
    "\n",
    "# Đọc dữ liệu\n",
    "data = pd.read_csv(\"D:/ML_water_quality/dataset/water_potability.csv\")\n",
    "\n",
    "# Xử lý giá trị bị thiếu bằng phương pháp điền giá trị trung vị\n",
    "imputer = SimpleImputer(strategy=\"median\")\n",
    "data_imputed = pd.DataFrame(imputer.fit_transform(data), columns=data.columns)\n",
    "\n",
    "# Tách đặc trưng (X) và nhãn (y)\n",
    "X = data_imputed.drop('Potability', axis=1)\n",
    "y = data_imputed['Potability']\n",
    "\n",
    "# Chuẩn hóa dữ liệu\n",
    "scaler = StandardScaler()\n",
    "X = scaler.fit_transform(X)\n",
    "\n",
    "# Chia dữ liệu thành tập huấn luyện và kiểm tra\n",
    "X_train, X_test, y_train, y_test = train_test_split(X, y, test_size=0.2, random_state=42)\n",
    "\n",
    "# 3. Khởi tạo mô hình Naive Bayes\n",
    "model = GaussianNB()\n",
    "\n",
    "# 4. Huấn luyện mô hình\n",
    "model.fit(X_train, y_train)\n",
    "\n",
    "# 5. Dự đoán trên tập kiểm tra\n",
    "y_pred = model.predict(X_test)\n",
    "\n",
    "# 6. Đánh giá mô hình\n",
    "accuracy = accuracy_score(y_test, y_pred)\n",
    "print(f\"Accuracy: {accuracy * 100:.2f}%\")\n",
    "print(\"\\nClassification Report:\\n\", classification_report(y_test, y_pred))"
   ]
  }
 ],
 "metadata": {
  "kernelspec": {
   "display_name": "Python 3",
   "language": "python",
   "name": "python3"
  },
  "language_info": {
   "codemirror_mode": {
    "name": "ipython",
    "version": 3
   },
   "file_extension": ".py",
   "mimetype": "text/x-python",
   "name": "python",
   "nbconvert_exporter": "python",
   "pygments_lexer": "ipython3",
   "version": "3.13.0"
  }
 },
 "nbformat": 4,
 "nbformat_minor": 2
}
